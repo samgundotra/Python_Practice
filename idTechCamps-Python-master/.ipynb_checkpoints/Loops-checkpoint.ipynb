{
 "cells": [
  {
   "cell_type": "markdown",
   "metadata": {},
   "source": [
    "Lets start with lists for now!\n",
    "\n",
    "by creating a list we can store an entire set of data, for example\n",
    "\n",
    "age = [14, 16, 73, 12, 34]\n",
    "this list stores the ages of a group of people\n",
    "\n",
    "after we create this list lets actually get the computer to run through it\n",
    "we can access certain parts of a list like so age[0] -> 14\n",
    "\n",
    "arrays are zero based which means the first number is counted as the zeroth number\n",
    "\n",
    "[14, 16, 73, 12, 34]\n",
    "  0   1   2   3   4"
   ]
  },
  {
   "cell_type": "code",
   "execution_count": 18,
   "metadata": {
    "collapsed": true
   },
   "outputs": [],
   "source": [
    "#create a list using the ages of the people around you, at least 5 ages is fine\n",
    "\n",
    "age = [1, 2, 3, 4]\n",
    "#print all the contents of the list using a print statement. Hint use the accessing a part of a the list age"
   ]
  },
  {
   "cell_type": "markdown",
   "metadata": {},
   "source": [
    "Okay so printing all the lines of a string sucks and we do not like to type print 5 times nor would we want to a thousand times\n",
    "which is why we have loops\n",
    "\n",
    "Loops are for lazy programmers. We can repeat lines of code very easily as long as some bit of data still exists in the list. In this case lets iterate through the list we just made in the cell above.\n",
    "\n",
    "a for loop is the best thing for this.\n",
    "\n",
    "for loops begin like so: \n",
    "    \n",
    "    for x in list:\n",
    "    \n",
    "x is an arbitrary value in the list. It begins as the 0th value and after it completes a complete loop\n",
    "it moves on to the next value in the list\n",
    "    \n",
    "if we run\n",
    "    \n",
    "    nums = [1, 2, 3, 4, 5]\n",
    "    for i in nums:\n",
    "        print(i)\n",
    "        \n",
    "our output should be \n",
    "1 \n",
    "2 \n",
    "3 \n",
    "4 \n",
    "5\n",
    "so go ahead and print all the values in he age list.\n"
   ]
  },
  {
   "cell_type": "code",
   "execution_count": 1,
   "metadata": {},
   "outputs": [
    {
     "name": "stdout",
     "output_type": "stream",
     "text": [
      "12\n",
      "14\n",
      "15\n",
      "16\n",
      "17\n"
     ]
    }
   ],
   "source": [
    "## fun fact all this code is connected even if im in a different cell\n",
    "#enter age loop here\n",
    "\n",
    "ages = [12,14,15,16,17]\n",
    "for s in ages:\n",
    "    print(s) \n",
    "    "
   ]
  },
  {
   "cell_type": "code",
   "execution_count": null,
   "metadata": {
    "collapsed": true
   },
   "outputs": [],
   "source": []
  },
  {
   "cell_type": "markdown",
   "metadata": {},
   "source": [
    "Now lets play around with what we can do with a list\n",
    " \n",
    "doubling a list with another list attaches a list to the end of said list\n",
    "\n",
    "l = [1, 2, 3, 4]\n",
    "l.append(5) this adds the value 5 to the list l\n",
    "l becomes [1, 2, 3, 4, 5]\n",
    "\n",
    "len(l) = 5\n",
    "\n",
    "l * 2 = [1, 2, 3, 4, 5, 1, 2, 3, 4, 5]"
   ]
  },
  {
   "cell_type": "code",
   "execution_count": 3,
   "metadata": {},
   "outputs": [
    {
     "name": "stdout",
     "output_type": "stream",
     "text": [
      "12\n",
      "14\n",
      "15\n",
      "16\n",
      "17\n",
      "18\n",
      "17\n"
     ]
    }
   ],
   "source": [
    "#add two numbers to the list age using the append function\n",
    "ages = [12,14,15,16,17] \n",
    "ages.append(18) \n",
    "ages.append(17) \n",
    " \n",
    "for t in ages:\n",
    "    print(t)\n"
   ]
  },
  {
   "cell_type": "markdown",
   "metadata": {},
   "source": [
    "Okay so now that thats done we can create a for loop to request an amount of values\n",
    "\n",
    "if we use the range function we can create a quick list of values from 0, 10 like so\n",
    "    one_to_ten = range(1, 10)\n",
    "    that will then create a list of [1, 2, 3, 4, 5, 6, 7, 8, 9, 10]\n",
    "simple, but why would we use this.\n",
    "Well what if we wanted to do something 10 times. we could stick this in a for loop like so.\n",
    "\n",
    "    one_to_ten = range(1, 10)\n",
    "    for i in one_to_ten:\n",
    "        print(i)\n",
    "\n",
    "input function:\n",
    "    x = input(\"Hello\")\n",
    "adding to a list function:\n",
    "    list.append(5)\n",
    "    adds 5"
   ]
  },
  {
   "cell_type": "code",
   "execution_count": null,
   "metadata": {},
   "outputs": [],
   "source": [
    "#okay now create a list of values with the range function\n",
    "years = range(2002,2018) \n",
    "#ears = list(years)\n",
    "print(years)\n",
    "#under here make a for loop to print all the values(m)\n",
    "for m in years:\n",
    "    print(m)\n",
    "#next we build a for loop that asks for user input every loop and adds it to a list\n",
    "h = int(input(\"Enter your year of birth: \")) \n",
    "years.append(h) \n",
    "for t in years:\n",
    "    print(t) "
   ]
  },
  {
   "cell_type": "markdown",
   "metadata": {},
   "source": [
    "Statistics are very important for Machine Learning, most of it is built off Statistics\n",
    "\n",
    "What i want you all to do is make a list of numbers could be about anything, age, foot size, grades etc.\n",
    "\n",
    "using a list and a for loop add up all the numbers in a list and find the average. simple right?\n",
    "\n",
    "Average = sum/number_of_ints"
   ]
  },
  {
   "cell_type": "code",
   "execution_count": null,
   "metadata": {
    "collapsed": true
   },
   "outputs": [],
   "source": [
    "#Create your average code here\n",
    "\n"
   ]
  }
 ],
 "metadata": {
  "kernelspec": {
   "display_name": "Python 3",
   "language": "python",
   "name": "python3"
  },
  "language_info": {
   "codemirror_mode": {
    "name": "ipython",
    "version": 3
   },
   "file_extension": ".py",
   "mimetype": "text/x-python",
   "name": "python",
   "nbconvert_exporter": "python",
   "pygments_lexer": "ipython3",
   "version": "3.6.3"
  }
 },
 "nbformat": 4,
 "nbformat_minor": 2
}
