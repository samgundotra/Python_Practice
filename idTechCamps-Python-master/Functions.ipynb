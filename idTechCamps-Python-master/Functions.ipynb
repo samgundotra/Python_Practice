{
 "cells": [
  {
   "cell_type": "markdown",
   "metadata": {},
   "source": [
    "Functions\n",
    "===\n",
    "\n",
    "Okay so we have played with a lot of functions before examples \n",
    "          \n",
    "          str(), print(), int()\n",
    "\n",
    "So we can build a function with a simple line\n",
    "\n",
    "    def Funct(is, this):\n",
    "\n",
    "so the def keyword means create a new function or define(wow)\n",
    "\n",
    "Funct is the name of the function\n",
    "\n",
    "(is, this) are the input values these always go in parenthesis ALWAYS this function has two input values is, this\n",
    "\n",
    "so lets look at an average function\n",
    "\n",
    "    def Average(sum, number_of_objects):\n",
    "    \n",
    "we know that to find a standard average we divide the sum by the amount of objects\n",
    "\n",
    "so we finish the function like so\n",
    "\n",
    "    def Average(sum, number_of_objects):\n",
    "        print(sum/number_of_objects)\n",
    "        \n",
    "BAM! we made a function!\n",
    "so lets make a function that prints the Pythagorean Theorem aka A^2 + B^2 = C^2 but print out the C^2\n",
    "\n",
    "to raise a number by another number use the below\n",
    "4^2 is 4**2\n",
    "run the below program**"
   ]
  },
  {
   "cell_type": "code",
   "execution_count": 1,
   "metadata": {},
   "outputs": [
    {
     "name": "stdout",
     "output_type": "stream",
     "text": [
      "16\n"
     ]
    }
   ],
   "source": [
    "print(4**2) #wow you know math\n",
    "\n",
    "import math\n"
   ]
  },
  {
   "cell_type": "markdown",
   "metadata": {},
   "source": [
    "Pythagorean theorem function below\n",
    "==="
   ]
  },
  {
   "cell_type": "code",
   "execution_count": 12,
   "metadata": {},
   "outputs": [
    {
     "name": "stdout",
     "output_type": "stream",
     "text": [
      "5.0\n"
     ]
    }
   ],
   "source": [
    "import math\n",
    "a = 3\n",
    "b = 4\n",
    "def pt(a,b):\n",
    "    c = a**2 + b**2\n",
    "    print(math.sqrt(c)) \n",
    "    \n",
    "pt(a,b) "
   ]
  },
  {
   "cell_type": "markdown",
   "metadata": {},
   "source": [
    "Okay cool but we can only print a value and thats boring because that limits what we can do to our data\n",
    "So lets **return** a the value\n",
    "\n",
    "if we rewrite our Average function\n",
    "\n",
    "    def Average(sum, number_of_objects):\n",
    "        print(sum/number_of_objects)\n",
    "        \n",
    "        to\n",
    "        \n",
    "    def Average1(sum, number_of_objects):\n",
    "        return sum/number_of_objects\n",
    "        \n",
    "**But whats the difference!!!!!**\n",
    "\n",
    "okay the first one will print it, the second will not.\n",
    "What the second one does is return the average to be printed or to have an operation applied to it.\n",
    "\n",
    "Recreate the function and run this line\n",
    "print(Average1(16/25) + 5)\n",
    "\n",
    "see the difference"
   ]
  },
  {
   "cell_type": "code",
   "execution_count": 2,
   "metadata": {},
   "outputs": [
    {
     "name": "stdout",
     "output_type": "stream",
     "text": [
      "<function Average at 0x7fb0d419e1e0>\n"
     ]
    }
   ],
   "source": [
    "# recreate the average function and try and print it\n",
    "\n",
    "def Average(sum, number_of_objects):\n",
    "    return sum/number_of_objects\n",
    "\n"
   ]
  },
  {
   "cell_type": "markdown",
   "metadata": {},
   "source": [
    "We also have completed our awkward activity\n",
    "If you recall we had 3 functions\n",
    "\n",
    "Gather_Data() - returns a list\n",
    "\n",
    "Add_Nums() - returns an Int\n",
    "\n",
    "Divide() - returns a float _psttttt floats are numbers like 4.2000000000012_\n",
    "\n",
    "And a large overlapping function called Average"
   ]
  },
  {
   "cell_type": "code",
   "execution_count": 31,
   "metadata": {},
   "outputs": [
    {
     "name": "stdout",
     "output_type": "stream",
     "text": [
      "Enter your shoe size: 5\n",
      "Enter your shoe size: 5\n",
      "Enter your shoe size: 4\n",
      "Enter your shoe size: 3\n",
      "Enter your shoe size: 2\n",
      "3.8\n"
     ]
    }
   ],
   "source": [
    "#Gather Data Function\n",
    "def gather():\n",
    "    data = range(0,5)\n",
    "    nums = [] \n",
    "    \n",
    "    for i in data:\n",
    "        x = input(\"Enter your shoe size: \") \n",
    "        nums.append(int(x)) \n",
    "    return nums\n",
    "\n",
    "#Add_Num Function\n",
    "nums = gather()\n",
    "\n",
    "def add_num(nums):\n",
    "    sum =0\n",
    "    \n",
    "    for i in nums:\n",
    "        sum += i\n",
    "    \n",
    "    return sum\n",
    "\n",
    "#print(add_num(nums)) \n",
    "sum = add_num(nums)  \n",
    "\"\"\"\n",
    "aschgaf4\n",
    "asdfwe\n",
    "asd\n",
    "\"\"\"\n",
    "#Divide Function\n",
    "\"\"\"\n",
    "def divide(nums, sum):\n",
    "    for c, i in enumerate(nums):\n",
    "        div = i/nums[c+1]\n",
    "\n",
    "    print(div)        \n",
    "        \n",
    "    \n",
    "divide(nums)    \n",
    "\"\"\"\n",
    "def average(sum,nums):\n",
    "    \n",
    "    avg = sum/len(nums)\n",
    "    return avg\n",
    "\n",
    "print(average(sum, nums))\n",
    "\n",
    "avg = average(sum,nums)\n",
    "\n",
    "\n",
    "\n",
    "    \n",
    "\n",
    "\n",
    "#average function\n",
    "\n"
   ]
  },
  {
   "cell_type": "markdown",
   "metadata": {},
   "source": [
    "Important things to gain from this is to create functions\n",
    "So for extra practice create a function that finds the Standard Deviation, (look up the mathematical operations it isnt that bad) \n"
   ]
  },
  {
   "cell_type": "code",
   "execution_count": 33,
   "metadata": {},
   "outputs": [],
   "source": [
    "#write the Standard Deviation code\n",
    "def std_dev(avg,nums):\n",
    "    sum2 = []\n",
    "    \n",
    "    for i in nums:\n",
    "        x = (i-avg)**2\n",
    "        sum2.append(x)\n",
    "        s = add_num(sum2)\n",
    "        s = s/len(nums)\n",
    "        s = math.sqrt(s) \n",
    "        \n",
    "    return s\n",
    "\n",
    "    \n",
    "    \n",
    "    \"\"\"\n",
    "    x = (nums[0]-avg)**2\n",
    "    y = (nums[1]-avg)**2\n",
    "    z = (nums[2]-avg)**2\n",
    "    s = (nums[3]-avg)**2\n",
    "    t = (nums[4]-avg)**2 \n",
    "    std_list = [x,y,z,s,t]\n",
    "    \n",
    "    tot =(add_num(std_dev))/len(nums)\n",
    "    print(math.sqrt(tot))\n",
    "    \n",
    "std_dev(avg,nums)\n",
    "\"\"\"\n",
    "    \n"
   ]
  },
  {
   "cell_type": "markdown",
   "metadata": {},
   "source": [
    "Median function:\n",
    "\n",
    "So like, we gotta find the middle... _yikes_ with odd numbers we can find the middle by making some modification to the result of a **len()** function. The length function gives us the amount of data inside a list.\n",
    "middle is half _haaaaalf_ as a refresher age[4] will access the 5th value"
   ]
  },
  {
   "cell_type": "code",
   "execution_count": 35,
   "metadata": {},
   "outputs": [
    {
     "ename": "SyntaxError",
     "evalue": "unexpected EOF while parsing (<ipython-input-35-14ec3046e1de>, line 2)",
     "output_type": "error",
     "traceback": [
      "\u001b[0;36m  File \u001b[0;32m\"<ipython-input-35-14ec3046e1de>\"\u001b[0;36m, line \u001b[0;32m2\u001b[0m\n\u001b[0;31m    def median():\u001b[0m\n\u001b[0m                 ^\u001b[0m\n\u001b[0;31mSyntaxError\u001b[0m\u001b[0;31m:\u001b[0m unexpected EOF while parsing\n"
     ]
    }
   ],
   "source": [
    "#write median\n",
    "def median(nums):\n",
    "    x = len(nums)\n",
    "    if(x/2 == int):\n",
    "        \n"
   ]
  },
  {
   "cell_type": "code",
   "execution_count": null,
   "metadata": {
    "collapsed": true
   },
   "outputs": [],
   "source": []
  }
 ],
 "metadata": {
  "kernelspec": {
   "display_name": "Python 3",
   "language": "python",
   "name": "python3"
  },
  "language_info": {
   "codemirror_mode": {
    "name": "ipython",
    "version": 3
   },
   "file_extension": ".py",
   "mimetype": "text/x-python",
   "name": "python",
   "nbconvert_exporter": "python",
   "pygments_lexer": "ipython3",
   "version": "3.6.3"
  }
 },
 "nbformat": 4,
 "nbformat_minor": 2
}
