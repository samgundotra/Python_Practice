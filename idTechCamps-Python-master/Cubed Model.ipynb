{
 "cells": [
  {
   "cell_type": "code",
   "execution_count": 10,
   "metadata": {},
   "outputs": [],
   "source": [
    "import tensorflow as tf\n",
    "tf.reset_default_graph() \n",
    "\n",
    "import numpy as np\n",
    "\n",
    "import matplotlib.pyplot as plt\n",
    "%matplotlib inline\n"
   ]
  },
  {
   "cell_type": "code",
   "execution_count": 12,
   "metadata": {
    "collapsed": true
   },
   "outputs": [],
   "source": [
    "input_data = tf.placeholder(dtype = tf.float32, shape = None) \n",
    "output_data = tf.placeholder(dtype = tf.float32, shape = None) \n",
    "\n",
    "a = tf.Variable(1, dtype = tf.float32)\n",
    "b = tf.Variable(1,dtype = tf.float32)\n",
    "c = tf.Variable(1,dtype = tf.float32)\n"
   ]
  },
  {
   "cell_type": "code",
   "execution_count": 34,
   "metadata": {},
   "outputs": [
    {
     "name": "stdout",
     "output_type": "stream",
     "text": [
      "[-4 -3 -2 -1  0  1  2  3  4] \n",
      " [-64 -27  -8  -1   0   1   8  27  64]\n",
      "[0.99999774, 0.99999774, 0.99999774]\n",
      "[0.9994767, 0.99947494, 0.99947643]\n",
      "[0.99887, 0.99886316, 0.99886906]\n",
      "[0.9981919, 0.99817467, 0.9981894]\n",
      "[0.9974507, 0.9974175, 0.99744576]\n",
      "[0.996653, 0.9965975, 0.9966452]\n",
      "[0.99580497, 0.9957192, 0.99579287]\n",
      "[0.9949111, 0.99478674, 0.99489313]\n",
      "[0.9939754, 0.9938027, 0.99395025]\n",
      "[0.99300164, 0.9927702, 0.9929677]\n",
      "82.74623\n"
     ]
    },
    {
     "data": {
      "image/png": "[encoded data removed]",
      "text/plain": [
       "<matplotlib.figure.Figure at 0x7f7ed4ca7eb8>"
      ]
     },
     "metadata": {},
     "output_type": "display_data"
    }
   ],
   "source": [
    "#parabola slope: ax^2 + bx + c\n",
    "model_op = a * (input_data **3) + (b * input_data**2) + (c * input_data)\n",
    "error = model_op - output_data\n",
    "sqr_error = tf.square(error)\n",
    "                \n",
    "loss = tf.reduce_mean(sqr_error)\n",
    "                \n",
    "learning_rate = 0.005\n",
    "\n",
    "#in order to minimize the loss\n",
    "optimizer = tf.train.AdadeltaOptimizer(learning_rate)\n",
    "\n",
    "train = optimizer.minimize(loss) \n",
    "#initialize the variables and run the session\n",
    "init = tf.global_variables_initializer()\n",
    "\n",
    "\n",
    "\n",
    "x_values = np.arange(-4,5)\n",
    "print(x_values,\"\\n\",y_values)\n",
    "y_values = np.power(x_values,3)\n",
    "\n",
    "fig = plt.figure()\n",
    "ax = fig.add_subplot(111)\n",
    "with tf.Session() as sess:\n",
    "    sess.run(init)\n",
    "    \n",
    "    for i in range(2000):\n",
    "        sess.run(train, feed_dict ={input_data: x_values, output_data: y_values})\n",
    "        if i%200== 0:\n",
    "            print(sess.run([a,b,c]))\n",
    "            ax.set_xlim(-25,25)\n",
    "            ax.set_ylim(-25,25)\n",
    "            ax.plot(x_values, sess.run(model_op, feed_dict ={input_data: x_values}))\n",
    "             \n",
    "    print(sess.run(loss, feed_dict ={input_data: x_values, output_data: y_values}))\n",
    "    plt.plot(x_values, y_values, 'ro', 'Training Data')\n",
    "    plt.plot(x_values, sess.run(model_op, feed_dict ={input_data: x_values}))\n",
    "                \n",
    "plt.show()\n",
    "                \n"
   ]
  },
  {
   "cell_type": "code",
   "execution_count": null,
   "metadata": {
    "collapsed": true
   },
   "outputs": [],
   "source": []
  },
  {
   "cell_type": "code",
   "execution_count": null,
   "metadata": {
    "collapsed": true
   },
   "outputs": [],
   "source": []
  }
 ],
 "metadata": {
  "kernelspec": {
   "display_name": "Python 3",
   "language": "python",
   "name": "python3"
  },
  "language_info": {
   "codemirror_mode": {
    "name": "ipython",
    "version": 3
   },
   "file_extension": ".py",
   "mimetype": "text/x-python",
   "name": "python",
   "nbconvert_exporter": "python",
   "pygments_lexer": "ipython3",
   "version": "3.6.3"
  }
 },
 "nbformat": 4,
 "nbformat_minor": 2
}
