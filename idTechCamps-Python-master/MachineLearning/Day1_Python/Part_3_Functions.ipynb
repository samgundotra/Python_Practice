{
 "cells": [
  {
   "cell_type": "markdown",
   "metadata": {},
   "source": [
    "Functions\n",
    "===\n",
    "\n",
    "Okay so we have played with a lot of functions before examples \n",
    "          \n",
    "          str(), print(), int()\n",
    "\n",
    "So we can build a function with a simple line\n",
    "\n",
    "    def Funct(is, this):\n",
    "\n",
    "so the def keyword means create a new function or define(wow)\n",
    "\n",
    "Funct is the name of the function\n",
    "\n",
    "(is, this) are the input values these always go in parenthesis ALWAYS this function has two input values is, this\n",
    "\n",
    "so lets look at an average function\n",
    "\n",
    "    def Average(sum, number_of_objects):\n",
    "    \n",
    "we know that to find a standard average we divide the sum by the amount of objects\n",
    "\n",
    "so we finish the function like so\n",
    "\n",
    "    def Average(sum, number_of_objects):\n",
    "        print(sum/number_of_objects)\n",
    "        \n",
    "BAM! we made a function!\n",
    "so lets make a function that prints the Pythagorean Theorem aka A^2 + B^2 = C^2 but print out the C^2\n",
    "\n",
    "to raise a number by another number use the below\n",
    "4^2 is 4**2\n",
    "run the below program**"
   ]
  },
  {
   "cell_type": "code",
   "execution_count": 1,
   "metadata": {},
   "outputs": [
    {
     "name": "stdout",
     "output_type": "stream",
     "text": [
      "9\n"
     ]
    }
   ],
   "source": [
    "print(4**2) #wow you know math"
   ]
  },
  {
   "cell_type": "markdown",
   "metadata": {},
   "source": [
    "Pythagorean theorem function below\n",
    "==="
   ]
  },
  {
   "cell_type": "code",
   "execution_count": null,
   "metadata": {},
   "outputs": [],
   "source": []
  },
  {
   "cell_type": "markdown",
   "metadata": {},
   "source": [
    "Okay cool but we can only print a value and thats boring because that limits what we can do to our data\n",
    "So lets **return** a the value\n",
    "\n",
    "if we rewrite our Average function\n",
    "\n",
    "    def Average(sum, number_of_objects):\n",
    "        print(sum/number_of_objects)\n",
    "        \n",
    "        to\n",
    "        \n",
    "    def Average1(sum, number_of_objects):\n",
    "        return sum/number_of_objects\n",
    "        \n",
    "**But whats the difference!!!!!**\n",
    "\n",
    "okay the first one will print it, the second will not.\n",
    "What the second one does is return the average to be printed or to have an operation applied to it.\n",
    "\n",
    "Recreate the function and run this line\n",
    "print(Average1(16/25) + 5)\n",
    "\n",
    "see the difference"
   ]
  },
  {
   "cell_type": "code",
   "execution_count": null,
   "metadata": {},
   "outputs": [],
   "source": [
    "# recreate the average function and try and print it"
   ]
  },
  {
   "cell_type": "markdown",
   "metadata": {},
   "source": [
    "We also have completed our awkward activity\n",
    "If you recall we had 3 functions\n",
    "\n",
    "Gather_Data() - returns a list\n",
    "\n",
    "Add_Nums() - returns an Int\n",
    "\n",
    "Divide() - returns a float _psttttt floats are numbers like 4.2000000000012_\n",
    "\n",
    "And a large overlapping function called Average"
   ]
  },
  {
   "cell_type": "code",
   "execution_count": null,
   "metadata": {},
   "outputs": [],
   "source": [
    "#Gather Data Function\n",
    "\n",
    "\n",
    "#Add_Num Function\n",
    "\n",
    "\n",
    "#Divide Function\n",
    "\n",
    "\n",
    "#average function\n",
    "\n"
   ]
  },
  {
   "cell_type": "markdown",
   "metadata": {},
   "source": [
    "Important things to gain from this is to create functions\n",
    "So for extra practice create a function that finds the Standard Deviation, (look up the mathematical operations it isnt that bad) \n"
   ]
  },
  {
   "cell_type": "code",
   "execution_count": null,
   "metadata": {},
   "outputs": [],
   "source": [
    "#write the Standard Deviation code"
   ]
  },
  {
   "cell_type": "markdown",
   "metadata": {},
   "source": [
    "Median function:\n",
    "\n",
    "So like, we gotta find the middle... _yikes_ with odd numbers we can find the middle by making some modification to the result of a **len()** function. The length function gives us the amount of data inside a list.\n",
    "middle is half _haaaaalf_ as a refresher age[4] will access the 5th value"
   ]
  },
  {
   "cell_type": "code",
   "execution_count": null,
   "metadata": {},
   "outputs": [],
   "source": [
    "#write median"
   ]
  }
 ],
 "metadata": {
  "kernelspec": {
   "display_name": "Python 3",
   "language": "python",
   "name": "python3"
  },
  "language_info": {
   "codemirror_mode": {
    "name": "ipython",
    "version": 3
   },
   "file_extension": ".py",
   "mimetype": "text/x-python",
   "name": "python",
   "nbconvert_exporter": "python",
   "pygments_lexer": "ipython3",
   "version": "3.5.2"
  }
 },
 "nbformat": 4,
 "nbformat_minor": 2
}
