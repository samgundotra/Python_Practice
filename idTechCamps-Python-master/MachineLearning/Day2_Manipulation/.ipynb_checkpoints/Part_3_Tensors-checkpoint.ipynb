{
 "cells": [
  {
   "cell_type": "code",
   "execution_count": 2,
   "metadata": {
    "collapsed": true
   },
   "outputs": [],
   "source": [
    "import numpy as np\n",
    "from IPython.core.display import HTML\n",
    "from IPython.display import Image"
   ]
  },
  {
   "cell_type": "code",
   "execution_count": 4,
   "metadata": {},
   "outputs": [
    {
     "data": {
      "text/html": [
       "<img src=\"https://cdn-images-1.medium.com/max/1000/1*_D5ZvufDS38WkhK9rK32hQ.jpeg\"/>"
      ],
      "text/plain": [
       "<IPython.core.display.Image object>"
      ]
     },
     "execution_count": 4,
     "metadata": {},
     "output_type": "execute_result"
    }
   ],
   "source": [
    "Image(url = 'https://cdn-images-1.medium.com/max/1000/1*_D5ZvufDS38WkhK9rK32hQ.jpeg')"
   ]
  },
  {
   "cell_type": "markdown",
   "metadata": {},
   "source": [
    "0-D Tensors\n",
    "===\n",
    "Zero dimension tensors hold one point. When operations are performed on the tensor only a single value is changed. \n",
    "We use .ndim to check the number of dimensions in a tensor/np.array"
   ]
  },
  {
   "cell_type": "code",
   "execution_count": 3,
   "metadata": {
    "scrolled": true
   },
   "outputs": [
    {
     "name": "stdout",
     "output_type": "stream",
     "text": [
      "1 \n",
      " num dimensions: 0\n"
     ]
    }
   ],
   "source": [
    "zeroD = np.array(1)\n",
    "print(zeroD,\"\\n num dimensions:\",zeroD.ndim)"
   ]
  },
  {
   "cell_type": "markdown",
   "metadata": {},
   "source": [
    "1-D Tensor\n",
    "==="
   ]
  },
  {
   "cell_type": "code",
   "execution_count": 4,
   "metadata": {},
   "outputs": [
    {
     "name": "stdout",
     "output_type": "stream",
     "text": [
      "[1 2 3] \n",
      " num dimensions: 1\n"
     ]
    }
   ],
   "source": [
    "oneD = np.array([1,2,3])\n",
    "print(oneD,\"\\n num dimensions:\",oneD.ndim)"
   ]
  },
  {
   "cell_type": "markdown",
   "metadata": {},
   "source": [
    "2-D Tensor\n",
    "==="
   ]
  },
  {
   "cell_type": "code",
   "execution_count": 5,
   "metadata": {},
   "outputs": [
    {
     "name": "stdout",
     "output_type": "stream",
     "text": [
      "[[1 2 3]\n",
      " [4 5 6]\n",
      " [6 7 8]] \n",
      " num dimensions: 2\n"
     ]
    }
   ],
   "source": [
    "twoD = np.array([[1,2,3],[4,5,6],[6,7,8]])\n",
    "print(twoD,\"\\n num dimensions:\",twoD.ndim)"
   ]
  },
  {
   "cell_type": "markdown",
   "metadata": {},
   "source": [
    "3-D Tensor\n",
    "===\n",
    "\n",
    "3-D tensors are great for storing time series data.\n",
    "Time series data can be stored with 3 parameters(dimensions)\n",
    "\n",
    "-  Stock prices(time, open, close)\n",
    "-  Single Image(width, height, colors(rgb))\n"
   ]
  },
  {
   "cell_type": "code",
   "execution_count": 11,
   "metadata": {},
   "outputs": [
    {
     "name": "stdout",
     "output_type": "stream",
     "text": [
      "[[[ 0  1  2]\n",
      "  [ 3  4  5]\n",
      "  [ 6  7  8]]\n",
      "\n",
      " [[ 9 10 11]\n",
      "  [12 13 14]\n",
      "  [15 16 17]]] \n",
      " num dimensions: 3\n"
     ]
    }
   ],
   "source": [
    "threeD = np.array([[[0,1,2],\n",
    "                    [3,4,5],\n",
    "                    [6,7,8]],\n",
    "                   [[9,10,11],\n",
    "                    [12,13,14],\n",
    "                    [15,16,17]]])\n",
    "print(threeD,\"\\n num dimensions:\",threeD.ndim)"
   ]
  },
  {
   "cell_type": "markdown",
   "metadata": {},
   "source": [
    "Quick maths\n",
    "===\n",
    "\n",
    "Given the 3D arrays below spot the difference between the sums of diffeent axis\n"
   ]
  },
  {
   "cell_type": "code",
   "execution_count": 16,
   "metadata": {},
   "outputs": [
    {
     "name": "stdout",
     "output_type": "stream",
     "text": [
      "[[ 3 12 21]\n",
      " [30 39 48]\n",
      " [57 66 75]]\n"
     ]
    }
   ],
   "source": [
    "threeD =np.array(\n",
    "      [[[ 0,  1,  2],\n",
    "        [ 3,  4,  5],\n",
    "        [ 6,  7,  8]],\n",
    "       \n",
    "       [[ 9, 10, 11],\n",
    "        [12, 13, 14],\n",
    "        [15, 16, 17]],\n",
    "       \n",
    "       [[18, 19, 20],\n",
    "        [21, 22, 23],\n",
    "        [24, 25, 26]]])\n",
    "\n",
    "r = np.sum(threeD, axis = 2)\n",
    "print(r)\n"
   ]
  },
  {
   "cell_type": "code",
   "execution_count": null,
   "metadata": {
    "collapsed": true
   },
   "outputs": [],
   "source": [
    "Ze Fourth Dimension\n",
    "===\n",
    "*insert fancy sci-fi sound clip here*\n",
    "\n",
    "If a 3D tensor can hold a single image then what would you do to hold several images??????\n",
    "\n",
    "If you guessed using a 4D tensor... then you probably read the words in bold above.\n"
   ]
  },
  {
   "cell_type": "code",
   "execution_count": 22,
   "metadata": {},
   "outputs": [
    {
     "name": "stdout",
     "output_type": "stream",
     "text": [
      "[[[ 0  1  2]\n",
      "  [ 3  4  5]\n",
      "  [ 6  7  8]]\n",
      "\n",
      " [[ 9 10 11]\n",
      "  [12 13 14]\n",
      "  [15 16 17]]\n",
      "\n",
      " [[18 19 20]\n",
      "  [21 22 23]\n",
      "  [24 25 26]]\n",
      "\n",
      " [[27 28 29]\n",
      "  [30 31 32]\n",
      "  [33 34 35]]] # of dimensions:  3\n"
     ]
    }
   ],
   "source": [
    "fourD = np.array(\n",
    "    [[[[1,2],\n",
    "      [3,4],]\n",
    "      [5,6]\n",
    "     ]\n",
    "     \n",
    "    \"\"\"\n",
    "   [[9,10,11],\n",
    "    [12,13,14],\n",
    "    [15,16,17]],\n",
    "    \n",
    "    [[18,19,20],\n",
    "    [21,22,23],\n",
    "    [24,25,26]],\n",
    "    \n",
    "    [[27,28,29],\n",
    "    [30,31,32],\n",
    "    [33,34,35]]]\n",
    "    ) \n",
    "    \"\"\"\n",
    "\n",
    "print(fourD, \"# of dimensions: \",fourD.ndim)\n",
    "\n"
   ]
  },
  {
   "cell_type": "code",
   "execution_count": null,
   "metadata": {
    "collapsed": true
   },
   "outputs": [],
   "source": []
  }
 ],
 "metadata": {
  "kernelspec": {
   "display_name": "Python 3",
   "language": "python",
   "name": "python3"
  },
  "language_info": {
   "codemirror_mode": {
    "name": "ipython",
    "version": 3
   },
   "file_extension": ".py",
   "mimetype": "text/x-python",
   "name": "python",
   "nbconvert_exporter": "python",
   "pygments_lexer": "ipython3",
   "version": "3.6.3"
  }
 },
 "nbformat": 4,
 "nbformat_minor": 2
}
