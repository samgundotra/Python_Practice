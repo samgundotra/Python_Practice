{
 "cells": [
  {
   "cell_type": "markdown",
   "metadata": {},
   "source": [
    "**Intro to Numpy**\n",
    "==\n",
    "\n",
    "Numpy has is a powerful library that we can use to handle data better. Numpy arrays come with great functions that allow us to Mutate data better and do some _ahem_ shortcuts to stuff we did before.\n",
    "\n",
    "we import numpy like so below\n"
   ]
  },
  {
   "cell_type": "code",
   "execution_count": null,
   "metadata": {},
   "outputs": [],
   "source": [
    "import numpy as np #its renamed so we dont have to type all 5 letters only 2 yay!"
   ]
  },
  {
   "cell_type": "code",
   "execution_count": null,
   "metadata": {},
   "outputs": [],
   "source": [
    "#make a python list or as we now will refer to them arrays\n",
    "\n",
    "\n",
    "#this is how we make a numpy array\n",
    "np_array = np.array([1, 2, 3, 4, 5, 6, 7, 8, 9])\n",
    "\n"
   ]
  },
  {
   "cell_type": "markdown",
   "metadata": {},
   "source": [
    "**Range**\n",
    "==\n",
    "similar to Python's range function which can create a set of numbers from one to another.\n",
    "\n",
    "Numpy provides a better solution.\n",
    "\n",
    "where we had:\n",
    "    \n",
    "range(x, y)\n",
    "\n",
    "we now have np.arrange(x, y, step)\n",
    "\n",
    "so x and y are the same x is our starting point, y is our ending point, step is how many we want to increment to get there\n",
    "\n",
    "if we go from 0, 10 with a step of 2 we get a numpy array of the below \n",
    "    \n",
    "    [0, 2, 4, 6, 8]\n",
    "    "
   ]
  },
  {
   "cell_type": "code",
   "execution_count": null,
   "metadata": {},
   "outputs": [],
   "source": [
    "#make an array below this using the new np function\n"
   ]
  },
  {
   "cell_type": "markdown",
   "metadata": {},
   "source": [
    "**Reshaping**\n",
    "==\n",
    "\n",
    "Now we have above us an array that has a size of 5 and when I say size I mean 5 elements inside the array.\n",
    "\n",
    "We can call this the Arrays shape so in otherwords it has a shape of 5\n",
    "\n",
    "we can call a shape variable with\n",
    "\n",
    "```python\n",
    "x = np.arange(0, 10, 3)\n",
    "x.shape\n",
    "\n",
    "```\n",
    "try this out"
   ]
  },
  {
   "cell_type": "code",
   "execution_count": null,
   "metadata": {},
   "outputs": [],
   "source": [
    "#create an array using the arange and print it out\n",
    "#now print out the shape by calling the shape method(note there are no parenthesis)"
   ]
  },
  {
   "cell_type": "markdown",
   "metadata": {},
   "source": [
    "So what you should have gotten is a wierd (4, ) size. This represents a rank one Matrix. with one row and 4 elements.\n",
    "\n",
    "so we want to reshape it so it doesnt look all janky with the (4, )\n",
    "\n",
    "lets give it a go.\n",
    "\n",
    "okay so we want this 4 shape to become a 1x4 shape\n",
    "\n",
    "all we need is to call the reshape function is\n",
    "\n",
    "```python\n",
    "x = x.reshape(1, 4)\n",
    "```\n",
    "after calling the reshape function, it returns the value so we need to save it to a variable. In many cases we want to update our reshaped data so we can save it to its original vairable x."
   ]
  },
  {
   "cell_type": "code",
   "execution_count": null,
   "metadata": {},
   "outputs": [],
   "source": [
    "#here lets reshape the x array to a 1x4 shape"
   ]
  },
  {
   "cell_type": "code",
   "execution_count": null,
   "metadata": {},
   "outputs": [],
   "source": [
    "#here lets reshape the x array to a 2x2 shape"
   ]
  },
  {
   "cell_type": "markdown",
   "metadata": {},
   "source": [
    "**Zeros**\n",
    "==\n",
    "\n",
    "Say for some reason we want an array to hold a bunch of zeros well we have a function for that!\n",
    "n and m will be the size for each dimension in the array\n",
    "\n",
    "```python\n",
    "z = np.zeros((n, m))\n",
    "\n",
    "print(z)\n",
    "```\n",
    "\n",
    "Now why do we need a bunch of zeros?\n",
    "Well in many cases when it comes to machine learning(wow i finally brought it up)\n",
    "we want to utilize the almost empty arrays to be filled with data. Making a bunch of zeros only allocates the space for future computations.\n"
   ]
  },
  {
   "cell_type": "code",
   "execution_count": null,
   "metadata": {},
   "outputs": [],
   "source": [
    "#declare a zero matrix like we did above, make it something like a 3x3 or a 4x4 itll help for the next part"
   ]
  },
  {
   "cell_type": "markdown",
   "metadata": {},
   "source": [
    "So I mentioned before that we can use this almost empty space to prepare for incoming data.\n",
    "So with a little bit of matrix math we can fill it up. Ill give an example below you can run."
   ]
  },
  {
   "cell_type": "code",
   "execution_count": null,
   "metadata": {},
   "outputs": [],
   "source": [
    "#lets make a np zero array of size 4x4\n",
    "z = np.zeros((4, 4))\n",
    "#now I want to create another array with 16 elements. We use 16 because 4x4=16.\n",
    "nums = np.arange(0, 16, 1)\n",
    "\n",
    "#lets print out the arrays we just made\n",
    "print(\"zero array\")\n",
    "print(z)\n",
    "\n",
    "print(\"number array\")\n",
    "print(nums)"
   ]
  },
  {
   "cell_type": "code",
   "execution_count": null,
   "metadata": {},
   "outputs": [],
   "source": [
    "#Like we did before, reshape the array nums to be a 4X4 matrix"
   ]
  },
  {
   "cell_type": "code",
   "execution_count": null,
   "metadata": {},
   "outputs": [],
   "source": [
    "#now we can simply add the two and set them equal to a new matrix\n",
    "new_nums = z + nums\n",
    "print(new_nums)"
   ]
  },
  {
   "cell_type": "markdown",
   "metadata": {},
   "source": [
    "**Eye**\n",
    "==\n",
    "This function is wierdly named, just because it uses eye\n",
    "\n",
    "```python\n",
    "np.eye((3, 3))\n",
    "```\n",
    "\n",
    "this gives us this beauty\n",
    "```python\n",
    "[[1][0][0]\n",
    " [0][1][0]\n",
    " [0][0][1]]\n",
    "```\n",
    "If you dont believe me try it."
   ]
  },
  {
   "cell_type": "code",
   "execution_count": null,
   "metadata": {},
   "outputs": [],
   "source": [
    "#create a variable to store the eye functions output to and print it."
   ]
  },
  {
   "cell_type": "markdown",
   "metadata": {},
   "source": [
    "so whats the deal with the eye? Well this is a special matrix known as an **identity matrix**. Whats fun about these is we can multiply a matrix to it and get the same one in return. But before you go trying to multiply a matrix to this bad boy. We need to cover how to multiply a matrix.\n",
    "\n",
    "**Its not easy...** _well it takes awhile_\n",
    "\n",
    "so forget looking at it for now and look at the crowning jewel\n",
    "\n",
    "```python\n",
    "new_array = np.dot(array1, array2)\n",
    "\n",
    "```\n",
    "\n",
    "This is how we multiply arrays, in this case array1, and array2\n",
    "So below I want you to create an eye function and an array of the same size and multiply them together."
   ]
  },
  {
   "cell_type": "code",
   "execution_count": null,
   "metadata": {},
   "outputs": [],
   "source": [
    "#create the identity matrix using np.eye()\n",
    "\n",
    "#then create a matrix using np.arange()\n",
    "\n",
    "#reshape the np.arange() to match the identity matrix size\n",
    "\n",
    "#use our snazzy new np.dot() function to multiply them and see why its called the identity matrix."
   ]
  },
  {
   "cell_type": "markdown",
   "metadata": {},
   "source": [
    "**This is where you hate me**\n",
    "==\n",
    "So remember those looooong (three lines) of code to find the sum of a list of numbers. _thinks back_\n",
    "\n",
    "well numpy has a shortcut. Remember programmers are lazy.\n",
    "\n",
    "```python\n",
    "    sum_of_matrix = np.sum(matrix)\n",
    "```\n",
    "\n",
    "wow...\n",
    "\n",
    "So lets make an array below this cell that uses this new function.\n"
   ]
  },
  {
   "cell_type": "code",
   "execution_count": null,
   "metadata": {},
   "outputs": [],
   "source": [
    "#make a matrix/array using numpy any numpy function that makes a matrix\n",
    "\n",
    "#find the sum of all the elements in that matrix"
   ]
  },
  {
   "cell_type": "markdown",
   "metadata": {},
   "source": [
    "**Adding up columns/rows**\n",
    "==\n",
    "\n",
    "Cool so we added up the entire matrix great.\n",
    "But what if we were weird and wanted to add up certain portions of the array.\n",
    "\n",
    "```python\n",
    "    sum_of_matrix_rows = np.sum(matrix, axis = 1)\n",
    "```\n",
    "The code above will add up all the values in each row and **return** a new array with the sum of each element in that row.\n",
    "\n",
    "```python\n",
    "[[1][2][3]\n",
    " [4][5][6]\n",
    " [7][8][9]]\n",
    "```\n",
    "becomes\n",
    "```python\n",
    "[6][15][24]\n",
    "```\n",
    "To find the sum of a column we just chane that axis value within the sum function to 0 \n",
    "```python\n",
    "sum_of_matrix_columns = np.sum(matrix, axis = 0)\n",
    "```"
   ]
  },
  {
   "cell_type": "code",
   "execution_count": null,
   "metadata": {},
   "outputs": [],
   "source": [
    "#try it out"
   ]
  }
 ],
 "metadata": {
  "kernelspec": {
   "display_name": "Python 3",
   "language": "python",
   "name": "python3"
  },
  "language_info": {
   "codemirror_mode": {
    "name": "ipython",
    "version": 3
   },
   "file_extension": ".py",
   "mimetype": "text/x-python",
   "name": "python",
   "nbconvert_exporter": "python",
   "pygments_lexer": "ipython3",
   "version": "3.5.2"
  }
 },
 "nbformat": 4,
 "nbformat_minor": 2
}
