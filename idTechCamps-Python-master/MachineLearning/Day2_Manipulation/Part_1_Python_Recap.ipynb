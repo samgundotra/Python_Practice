{
 "cells": [
  {
   "cell_type": "markdown",
   "metadata": {},
   "source": [
    "**So You Think You Know Python(Part I)**\n",
    "==\n",
    "Okay so yesterday seems legit right?\n",
    "\n",
    "Lets start off with the basics\n",
    "```python\n",
    "print(\"Greetings universe\")\n",
    "```\n"
   ]
  },
  {
   "cell_type": "code",
   "execution_count": null,
   "metadata": {},
   "outputs": [],
   "source": [
    "#make a print statement that prints your favorite thing about computers <3"
   ]
  },
  {
   "cell_type": "markdown",
   "metadata": {},
   "source": [
    "**Data Types**\n",
    "==\n",
    "Here are a list of data types, some we havent really played with but its good to know\n",
    "\n",
    "**Int** These are purely numerical values made up of combinations of 0-9..._or just numbers_\n",
    "\n",
    "**String** Strings are made up of any character that your keyboard can give you example \"gieowngofsa\"\n",
    "            Strings also **absolutely** need quotations around the characters, you can quote me on that.\n",
    "\n",
    "**Boolean** True or False, that is the question. Booleans help us decide things in **if statements**.\n",
    "\n",
    "**Floats** More precise numerical values so like 2.34326421324216 _after mashing random numbers i never passed 6_\n",
    "\n",
    "Below print out one of each."
   ]
  },
  {
   "cell_type": "code",
   "execution_count": null,
   "metadata": {},
   "outputs": [],
   "source": [
    "#print 4 things pleeeze"
   ]
  },
  {
   "cell_type": "markdown",
   "metadata": {},
   "source": [
    "**Variables**\n",
    "==\n",
    "So now I Want you all to make a variable that stores your favorite food...\n",
    "\n",
    "Fun Fact about Python: You can jam any data type in a variable.\n",
    "Try it.\n",
    "Make 4 variables with each data type."
   ]
  },
  {
   "cell_type": "code",
   "execution_count": null,
   "metadata": {},
   "outputs": [],
   "source": [
    "#should be easy, you can name these variables untensils and I would understand"
   ]
  },
  {
   "cell_type": "markdown",
   "metadata": {},
   "source": [
    "**Input**\n",
    "==\n",
    "How do we get input...\n",
    "```python\n",
    "well = input(\"This is how you get input, so now pick a number: \")\n",
    "```\n",
    "The string on the inside represents the prompt. \n",
    "So this is where you ask your user what data you want."
   ]
  },
  {
   "cell_type": "code",
   "execution_count": null,
   "metadata": {},
   "outputs": [],
   "source": [
    "#make an input statement"
   ]
  },
  {
   "cell_type": "markdown",
   "metadata": {},
   "source": [
    "**Mathematics Done Easy**\n",
    "==\n",
    "So like just try and add each data type to another version of itself with a plus example\n",
    "\n",
    "print(\"I am a \" + \"string\")\n",
    "\n",
    "**note** even Booleans work! Ask One of us for the reason why.\n"
   ]
  },
  {
   "cell_type": "code",
   "execution_count": null,
   "metadata": {},
   "outputs": [],
   "source": [
    "#make 4 print statements that add data types of the same type to eachother."
   ]
  },
  {
   "cell_type": "markdown",
   "metadata": {},
   "source": [
    "**Casting**\n",
    "==\n",
    "\n",
    "Now I mentioned this to some of you. To the others brace yourselves.\n",
    "\n",
    "say we want to change an integer to a string so that it would be able to print correctly\n",
    "\n",
    "```python\n",
    "#note this doesnt work\n",
    "print(\"I dont work because \" + 5)\n",
    "```\n",
    "\n",
    "Using\n",
    "```python\n",
    "str(5)\n",
    "```\n",
    "our 5 becomes \"5\"\n",
    "or **our integer became a string!** they grow up so fast dont they.\n",
    "Well lets turn that five back into a 5.\n",
    "\n",
    "Using \n",
    "``` python\n",
    "int(\"5\")\n",
    "```\n",
    "Our \"5\" becomes 5\n",
    "\n",
    "Try casting the not working line of code above so that it does work.\n",
    "This is known as casting if you didnt catch that... <>< fish jokes...\n",
    "\n",
    "**Adding Two Values of the same data type must happen for functioning code.**"
   ]
  },
  {
   "cell_type": "code",
   "execution_count": null,
   "metadata": {},
   "outputs": [],
   "source": [
    "#fix the broken print statement."
   ]
  },
  {
   "cell_type": "markdown",
   "metadata": {},
   "source": [
    "**If Statements**\n",
    "==\n",
    "\n",
    "So if you get this part read it.\n",
    "```python\n",
    "if(student_understands):\n",
    "    student_keeps_reading()\n",
    "```\n",
    "\n",
    "so if the statement inside the parenthesis following the **if** is True then we move on to the next line.\n",
    "\n",
    "A poet once said\n",
    " \"For every If there is an else, if only life worked that way\" --Matt\n",
    "\n",
    "And so it was written\n",
    "\n",
    "```python\n",
    "if(store_has_eggs):\n",
    "    buy_eggs()\n",
    "else:\n",
    "    go_to_other_store()\n",
    "```\n",
    "If our first condition is False then we move on to the else.\n",
    "\n",
    "Now what if we want to still buy things at that store and add more conditions because that store has good prices.\n",
    "\n",
    "```python\n",
    "if(store_has_eggs):\n",
    "    buy_eggs()\n",
    "elif(store_has_carton_of_egg_whites):\n",
    "    buy_carton_of_egg_whites()\n",
    "else:\n",
    "    go_to_other_store()\n",
    "\n",
    "```\n",
    "**elif** allows us to add more conditions to an if else statement."
   ]
  },
  {
   "cell_type": "code",
   "execution_count": null,
   "metadata": {},
   "outputs": [],
   "source": [
    "#make an input statement that stores a value into a variable called health\n",
    "\n",
    "#now make an if statement that checks if your health is less than 100\n",
    "\n",
    "#if it is true print \"Take a bandage!\"\n",
    "\n",
    "#else print \"Well why are you looking at me?\""
   ]
  },
  {
   "cell_type": "markdown",
   "metadata": {},
   "source": [
    "**Lists**\n",
    "==\n",
    "\n",
    "Lists are like variables, instead of storing one value we can store whatever we want... Yay!\n",
    "\n",
    "lists are defined like so\n",
    "\n",
    "```python\n",
    "list_of_numbers = [1, 2, 3, 4, 5]\n",
    "\n",
    "```\n",
    "\n",
    "if we want to add to this list we use the **append()** function\n",
    "\n",
    "```python\n",
    "list_of_numbers.append(6)\n",
    "```\n",
    "makes the new list of numbers\n",
    "\n",
    "```python\n",
    "list_of_numbers = [1, 2, 3, 4, 5, 6]\n",
    "```\n",
    "\n",
    "The Positioning of each element in a List is zero-based\n",
    "\n",
    "which means, the first element in a list is the zeroth element example\n",
    "\n",
    "[1, 2, 3, 4, 5, 6]\n",
    " 0, 1, 2, 3, 4, 5 \n",
    " \n",
    " so if we have 6 elements in the list then we should get a range from 0-5 for the positions.\n",
    " To point at a certain value in the list we use **bracket notation**.\n",
    " \n",
    "```python\n",
    "lets_get_the_second = list_of_numbers[1]\n",
    "```\n",
    "\n",
    "Now, Define a list of anything you want and use bracket notation to extract the data from the 3rd point.\n"
   ]
  },
  {
   "cell_type": "code",
   "execution_count": null,
   "metadata": {},
   "outputs": [],
   "source": [
    "#lets make a list of 6 elements\n",
    "\n",
    "#use bracket notation to pull out the 3rd value\n"
   ]
  },
  {
   "cell_type": "markdown",
   "metadata": {},
   "source": [
    "Now what if someone handed us a list of some number of variables. Well we need to count it somehow so what do we do? Well we can do one of two things.\n",
    "We can do it the easy way.\n",
    "\n",
    "number_of_elements = len(list_of_numbers)\n",
    "\n",
    "the len() function counts the amount of elements in a given list, which we place inside a parenthesis.\n"
   ]
  },
  {
   "cell_type": "code",
   "execution_count": null,
   "metadata": {},
   "outputs": [],
   "source": [
    "#use the len function on a list of elements"
   ]
  },
  {
   "cell_type": "markdown",
   "metadata": {},
   "source": [
    "**For Loops**\n",
    "==\n",
    "\n",
    "Well lists are nice and we can use a new tool to run through each of them.\n",
    "\n",
    "say we have a list\n",
    "```python\n",
    "list_of_elements = [1, 2, 3, 4, 5]\n",
    "```\n",
    "and we want to print them. But because programmers are lazy we dont want to type 5 print statements.\n",
    "\n",
    "Lets make a for loop to iterate through them all.\n",
    "\n",
    "```python\n",
    "for i in list_of_elements:\n",
    "    print(i)\n",
    "```\n",
    "\n",
    "We can also get the sum of them all by creating an empty variable initialized to 0.\n",
    "\n",
    "```python\n",
    "sum = 0\n",
    "#by creating a for loop we can add the value from each position in the list to this sum variable like so\n",
    "for i in list_of_elements:\n",
    "    sum = sum + 1\n",
    "print(sum)\n",
    "```\n",
    "\n",
    "so make a for loop and see test this out!"
   ]
  },
  {
   "cell_type": "code",
   "execution_count": null,
   "metadata": {},
   "outputs": [],
   "source": [
    "#create a for loop and this time s"
   ]
  },
  {
   "cell_type": "markdown",
   "metadata": {},
   "source": [
    "Alright so now we are somewhat complete with the basics. More will come as we go and as we need it! Thank you for your patience. Machine Learning **Requires** full understanding of Python!"
   ]
  },
  {
   "cell_type": "code",
   "execution_count": null,
   "metadata": {},
   "outputs": [],
   "source": []
  }
 ],
 "metadata": {
  "kernelspec": {
   "display_name": "Python 3",
   "language": "python",
   "name": "python3"
  },
  "language_info": {
   "codemirror_mode": {
    "name": "ipython",
    "version": 3
   },
   "file_extension": ".py",
   "mimetype": "text/x-python",
   "name": "python",
   "nbconvert_exporter": "python",
   "pygments_lexer": "ipython3",
   "version": "3.5.2"
  }
 },
 "nbformat": 4,
 "nbformat_minor": 2
}
